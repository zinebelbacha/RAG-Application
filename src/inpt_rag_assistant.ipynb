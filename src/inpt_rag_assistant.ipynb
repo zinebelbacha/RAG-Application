{
 "cells": [
  {
   "cell_type": "code",
   "execution_count": 11,
   "id": "3d19145c",
   "metadata": {},
   "outputs": [
    {
     "data": {
      "text/plain": [
       "True"
      ]
     },
     "execution_count": 11,
     "metadata": {},
     "output_type": "execute_result"
    }
   ],
   "source": [
    "from dotenv import load_dotenv\n",
    "\n",
    "load_dotenv()"
   ]
  },
  {
   "cell_type": "code",
   "execution_count": 3,
   "id": "7d368c1e",
   "metadata": {},
   "outputs": [],
   "source": [
    "import os\n",
    "from langchain_google_genai import ChatGoogleGenerativeAI\n",
    "\n",
    "api_key = os.getenv(\"GOOGLE_API_KEY\")\n",
    "llm = ChatGoogleGenerativeAI(model=\"gemini-1.5-flash\", api_key=api_key)"
   ]
  },
  {
   "cell_type": "code",
   "execution_count": 4,
   "id": "aa75e6fc",
   "metadata": {},
   "outputs": [
    {
     "data": {
      "text/plain": [
       "AIMessage(content='Unfortunately, a definitive and up-to-date list of student clubs at INPT Rabat (Institut National des Postes et Télécommunications de Rabat) isn\\'t readily available online through easily accessible public sources.  Information about student clubs at universities in Morocco is often not centrally compiled and publicized in English.\\n\\nTo find this information, I recommend trying these approaches:\\n\\n* **Check the INPT Rabat Website:** Look for a student portal, student life section, or a dedicated page for extracurricular activities.  Sometimes universities will list clubs affiliated with them.\\n\\n* **Contact INPT Rabat Directly:** The best way to get accurate information would be to contact the student affairs office or a student organization at INPT Rabat.  Their website should have contact details.\\n\\n* **Social Media:** Search for \"INPT Rabat clubs\" or similar terms on Facebook, Instagram, or other social media platforms. Students often advertise their clubs there.\\n\\n\\nKeep in mind that the availability and types of clubs can change from year to year.', additional_kwargs={}, response_metadata={'prompt_feedback': {'block_reason': 0, 'safety_ratings': []}, 'finish_reason': 'STOP', 'model_name': 'gemini-1.5-flash', 'safety_ratings': []}, id='run--e737b27c-4b39-4d21-899e-c8480f955227-0', usage_metadata={'input_tokens': 12, 'output_tokens': 206, 'total_tokens': 218, 'input_token_details': {'cache_read': 0}})"
      ]
     },
     "execution_count": 4,
     "metadata": {},
     "output_type": "execute_result"
    }
   ],
   "source": [
    "llm.invoke(\"What are the clubs that students can join at INPT Rabat\")"
   ]
  },
  {
   "cell_type": "code",
   "execution_count": 15,
   "id": "4b0617cf",
   "metadata": {},
   "outputs": [],
   "source": [
    "from langchain.text_splitter import CharacterTextSplitter\n",
    "from langchain.document_loaders import TextLoader\n",
    "from langchain_huggingface import HuggingFaceEmbeddings\n",
    "\n",
    "\n",
    "loader = TextLoader(r'C:\\Users\\hp\\Downloads\\RAG-Application\\Data\\inpt.txt')\n",
    "documents = loader.load()\n",
    "text_splitter = CharacterTextSplitter(chunk_size=1000, chunk_overlap=4)\n",
    "docs = text_splitter.split_documents(documents)\n",
    "\n",
    "embeddings = HuggingFaceEmbeddings(model_name=\"sentence-transformers/all-MiniLM-L6-v2\")"
   ]
  },
  {
   "cell_type": "code",
   "execution_count": 17,
   "id": "f516eae9",
   "metadata": {},
   "outputs": [
    {
     "name": "stdout",
     "output_type": "stream",
     "text": [
      "Index 'rag-app' already exists.\n"
     ]
    }
   ],
   "source": [
    "import os\n",
    "from pinecone import Pinecone, ServerlessSpec\n",
    "# Initialize Pinecone\n",
    "pc = Pinecone(api_key=os.environ.get(\"PINECONE_API_KEY\"))\n",
    "\n",
    "index_name = \"rag-app\"\n",
    "\n",
    "# Check if the index exists, and create it if it doesn't\n",
    "if index_name not in pc.list_indexes().names():\n",
    "    pc.create_index(\n",
    "        name=index_name,\n",
    "        dimension=384,\n",
    "        metric=\"cosine\",\n",
    "        spec=ServerlessSpec(\n",
    "            cloud=\"aws\",\n",
    "            region=\"us-east-1\"\n",
    "        )\n",
    "    )\n",
    "    print(f\"Index '{index_name}' created.\")\n",
    "else:\n",
    "    print(f\"Index '{index_name}' already exists.\")\n",
    "\n",
    "# Connect to the index\n",
    "index = pc.Index(index_name)"
   ]
  },
  {
   "cell_type": "code",
   "execution_count": 18,
   "id": "461e3f57",
   "metadata": {},
   "outputs": [],
   "source": [
    "# Create vector store\n",
    "from langchain.docstore.document import Document\n",
    "from langchain_pinecone import PineconeVectorStore\n",
    "vectorstore = PineconeVectorStore.from_documents(\n",
    "    documents=docs,\n",
    "    embedding=embeddings,\n",
    "    index_name=index_name\n",
    ")\n"
   ]
  },
  {
   "cell_type": "code",
   "execution_count": 19,
   "id": "2f072c2c",
   "metadata": {},
   "outputs": [],
   "source": [
    "from langchain.prompts import PromptTemplate\n",
    "from langchain.schema.runnable import RunnablePassthrough\n",
    "from langchain.schema.output_parser import StrOutputParser\n",
    "from langchain_core.runnables import RunnableMap\n",
    "\n",
    "template = \"\"\"\n",
    "You are an assistant specializing in the Institut National des Postes et Télécommunications (INPT).\n",
    "Your role is to provide information and answer questions related only to INPT, including its programs, research, and organizational details.\n",
    "If a question is outside your area of expertise, politely inform the user that you can only assist with questions related to INPT.\n",
    "\n",
    "Context: {context}\n",
    "Question: {question}\n",
    "Answer:\n",
    "\"\"\"\n",
    "\n",
    "prompt = PromptTemplate(\n",
    "    input_variables=[\"context\", \"question\"],\n",
    "    template=template\n",
    ")\n",
    "\n",
    "# RAG chain definition\n",
    "rag_chain = (\n",
    "    RunnableMap({\n",
    "        \"context\": vectorstore.as_retriever(), \n",
    "        \"question\": RunnablePassthrough()\n",
    "    })\n",
    "    | prompt\n",
    "    | llm  \n",
    "    | StrOutputParser()\n",
    ")\n"
   ]
  },
  {
   "cell_type": "code",
   "execution_count": 22,
   "id": "94a89660",
   "metadata": {},
   "outputs": [
    {
     "name": "stdout",
     "output_type": "stream",
     "text": [
      "Students at INPT Rabat can join several clubs.  Here are two examples:\n",
      "\n",
      "* **CAS (Club des Affaires Sociales):** This club focuses on impactful social initiatives and community outreach.\n",
      "\n",
      "* **CIT (Club d’Innovation et de Technologie):** This club hosts workshops in data science, software development, cybersecurity, and DevOps.  They also run nationwide competitions like JNJD and IDEH for developers across Morocco.\n"
     ]
    }
   ],
   "source": [
    "question = \"What are the clubs that students can join at INPT Rabat? Give me two clubs with a brief explanation of each one's activities.\"\n",
    "response = rag_chain.invoke(question)\n",
    "print(response)\n"
   ]
  },
  {
   "cell_type": "code",
   "execution_count": null,
   "id": "c31927ae",
   "metadata": {},
   "outputs": [],
   "source": []
  }
 ],
 "metadata": {
  "kernelspec": {
   "display_name": ".venv",
   "language": "python",
   "name": "python3"
  },
  "language_info": {
   "codemirror_mode": {
    "name": "ipython",
    "version": 3
   },
   "file_extension": ".py",
   "mimetype": "text/x-python",
   "name": "python",
   "nbconvert_exporter": "python",
   "pygments_lexer": "ipython3",
   "version": "3.11.0"
  }
 },
 "nbformat": 4,
 "nbformat_minor": 5
}
